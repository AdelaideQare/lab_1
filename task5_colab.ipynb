{
  "nbformat": 4,
  "nbformat_minor": 0,
  "metadata": {
    "colab": {
      "provenance": []
    },
    "kernelspec": {
      "name": "python3",
      "display_name": "Python 3"
    },
    "language_info": {
      "name": "python"
    }
  },
  "cells": [
    {
      "cell_type": "markdown",
      "source": [
        "## **Задание 5**\n",
        "Работа с Google Drive\n",
        "\n",
        "\n"
      ],
      "metadata": {
        "id": "NwWazXXbHdSR"
      }
    },
    {
      "cell_type": "code",
      "source": [
        "from google.colab import drive\n",
        "drive.mount('/content/drive')"
      ],
      "metadata": {
        "colab": {
          "base_uri": "https://localhost:8080/"
        },
        "id": "3RnfyGKAHjZE",
        "outputId": "27d692db-5bac-4c5d-8347-cb0cb98def1c"
      },
      "execution_count": null,
      "outputs": [
        {
          "output_type": "stream",
          "name": "stdout",
          "text": [
            "Mounted at /content/drive\n"
          ]
        }
      ]
    },
    {
      "cell_type": "code",
      "source": [
        "!ls /content/drive/MyDrive"
      ],
      "metadata": {
        "colab": {
          "base_uri": "https://localhost:8080/"
        },
        "id": "LPXkXm_zH44d",
        "outputId": "f6587656-c81f-4838-f4ef-fd1ef82a36c3"
      },
      "execution_count": null,
      "outputs": [
        {
          "output_type": "stream",
          "name": "stdout",
          "text": [
            "'Colab Notebooks'\t\t       'дни рождения (1).gsheet'\n",
            " doodoo.ipynb\t\t\t       'дни рождения.gsheet'\n",
            " English_File_3e_-_Elementary_SB.gdoc  'зя статья.gdoc'\n",
            "'Getting started.pdf'\t\t       'Очередь на экзамен.gdoc'\n",
            "'Untitled spreadsheet (1).gsheet'       список.gdoc\n",
            "'Untitled spreadsheet.gsheet'\t        Хостинги.gsheet\n"
          ]
        }
      ]
    },
    {
      "cell_type": "code",
      "source": [
        "#Запись текста в файл\n",
        "file_path = '/content/drive/MyDrive/textfile5.txt'\n",
        "\n",
        "with open(file_path, 'w') as file:\n",
        "    file.write(\"Здоровый сон - залог здоровья.\\n\")\n",
        "    file.write(\"123\\n\")\n",
        "\n",
        "print(f\"Файл создан: {file_path}\")"
      ],
      "metadata": {
        "colab": {
          "base_uri": "https://localhost:8080/"
        },
        "id": "SdgVgwwvICUR",
        "outputId": "6fb582cf-7deb-4d04-943c-8598e77d1e09"
      },
      "execution_count": null,
      "outputs": [
        {
          "output_type": "stream",
          "name": "stdout",
          "text": [
            "Файл создан: /content/drive/MyDrive/textfile5.txt\n"
          ]
        }
      ]
    },
    {
      "cell_type": "code",
      "source": [
        "#Чтение файла\n",
        "with open(file_path, \"r\") as f:\n",
        "  content = f.read()\n",
        "  print(\"Содержимое файла:\\n\", content)"
      ],
      "metadata": {
        "colab": {
          "base_uri": "https://localhost:8080/"
        },
        "id": "p3itNo-mKNfq",
        "outputId": "a00ad34f-8647-4f50-8451-36e49d85b03f"
      },
      "execution_count": null,
      "outputs": [
        {
          "output_type": "stream",
          "name": "stdout",
          "text": [
            "Содержимое файла:\n",
            " Здоровый сон - залог здоровья.\n",
            "123\n",
            "\n"
          ]
        }
      ]
    },
    {
      "cell_type": "code",
      "source": [
        "# Создание CSV вручную\n",
        "students = [\n",
        "    [\"Гречкина Т.Д.\", 19, \"ИВТ-23-1\"],\n",
        "    [\"Текеева А.Д.\", 19, \"ИВТ-23-2\"],\n",
        "    [\"Текеева М.А.\", 18, \"ИВТ-23-2\"] ]\n",
        "csv_path = \"/content/drive/MyDrive/students.csv\"\n",
        "with open(csv_path, \"w\") as f:\n",
        "  for student in students:\n",
        "    f.write(\",\".join(map(str, student)) + \"\\n\")\n",
        "print(\"Файл students.csv успешно сохранен в Google Drive.\")"
      ],
      "metadata": {
        "colab": {
          "base_uri": "https://localhost:8080/"
        },
        "id": "Rqs-PkhgK3wa",
        "outputId": "98c54995-5341-40c4-92b1-228bb95d16fa"
      },
      "execution_count": null,
      "outputs": [
        {
          "output_type": "stream",
          "name": "stdout",
          "text": [
            "Файл students.csv успешно сохранен в Google Drive.\n"
          ]
        }
      ]
    }
  ]
}